{
 "cells": [
  {
   "cell_type": "markdown",
   "id": "aad08366-9158-4bf3-aac7-df90c786b850",
   "metadata": {},
   "source": [
    "# Membuat graf: Adjacency Matrix\n",
    "Ada dua node terhubung, set nilai di sel matriks dengan kolom dan baris yang merepresentasikan kedua node tersebut dengan 1 atau bobotnya. Pada kali ini, yang diimplementasikan adalah graf tidak berbobot dan tidak berarah"
   ]
  },
  {
   "cell_type": "code",
   "execution_count": 4,
   "id": "08d6337e-1295-4a2f-a422-fa5e7417671f",
   "metadata": {},
   "outputs": [],
   "source": [
    "class GraphAdjacencyMatrix:\n",
    "  def __init__(self):\n",
    "    self.matrix = []\n",
    "    self.mapping = {}\n",
    "\n",
    "  def addNode(self, key):\n",
    "    self.mapping[key] = len(self.matrix)\n",
    "    for node in self.matrix:\n",
    "      node.append(0)\n",
    "\n",
    "    self.matrix.append(\n",
    "        [0 for _ in range(len(self.matrix) + 1)]\n",
    "    )\n",
    "\n",
    "  def connectNode(self, origin, destination):\n",
    "    originIndex = self.mapping.get(origin)\n",
    "    destinationIndex = self.mapping.get(destination)\n",
    "    isBothExist = (originIndex != None and destinationIndex != None)\n",
    "\n",
    "    if(isBothExist):\n",
    "      self.matrix[originIndex][destinationIndex] = 1\n",
    "      self.matrix[destinationIndex][originIndex] = 1\n",
    "\n",
    "  def disconnectNode(self, origin, destination):\n",
    "    originIndex = self.mapping.get(origin)\n",
    "    destinationIndex = self.mapping.get(destination)\n",
    "    isBothExist = (originIndex != None and destinationIndex != None)\n",
    "\n",
    "    if(isBothExist):\n",
    "      self.matrix[originIndex][destinationIndex] = 0\n",
    "      self.matrix[destinationIndex][originIndex] = 0\n",
    "\n",
    "  def displayAdjacencyMatrix(self):\n",
    "    for node in self.matrix:\n",
    "      print(node)\n",
    "    print()\n"
   ]
  },
  {
   "cell_type": "code",
   "execution_count": 5,
   "id": "2770e185-c7cf-49ae-84b4-975b435d5595",
   "metadata": {},
   "outputs": [
    {
     "name": "stdout",
     "output_type": "stream",
     "text": [
      "[0, 0, 1]\n",
      "[0, 0, 1]\n",
      "[1, 1, 0]\n",
      "\n",
      "[0, 0, 0]\n",
      "[0, 0, 1]\n",
      "[0, 1, 0]\n",
      "\n"
     ]
    }
   ],
   "source": [
    "graph = GraphAdjacencyMatrix()\n",
    "graph.addNode(1)\n",
    "graph.addNode(2)\n",
    "graph.addNode(3)\n",
    "graph.connectNode(1, 3)\n",
    "graph.connectNode(2, 3)\n",
    "graph.displayAdjacencyMatrix()\n",
    "graph.disconnectNode(1, 3)\n",
    "graph.displayAdjacencyMatrix()"
   ]
  },
  {
   "cell_type": "code",
   "execution_count": null,
   "id": "7b7c4e71-638b-4d80-9c6f-aa4df23af800",
   "metadata": {},
   "outputs": [],
   "source": []
  }
 ],
 "metadata": {
  "kernelspec": {
   "display_name": "Python 3 (ipykernel)",
   "language": "python",
   "name": "python3"
  },
  "language_info": {
   "codemirror_mode": {
    "name": "ipython",
    "version": 3
   },
   "file_extension": ".py",
   "mimetype": "text/x-python",
   "name": "python",
   "nbconvert_exporter": "python",
   "pygments_lexer": "ipython3",
   "version": "3.11.6"
  }
 },
 "nbformat": 4,
 "nbformat_minor": 5
}
