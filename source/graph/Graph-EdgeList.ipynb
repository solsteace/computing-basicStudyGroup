{
 "cells": [
  {
   "cell_type": "markdown",
   "id": "102e96d6-c6ea-4850-b291-d3c5f428daa7",
   "metadata": {},
   "source": [
    "# Edge List\n",
    "Kali ini, graf akan dibuat cukup dengan sebuah linked list biasa saja. Ada dua kelas yang akan dibutuhkan yakni: Graph dan NodeGraph"
   ]
  },
  {
   "cell_type": "code",
   "execution_count": 23,
   "id": "83449bc0-5c89-48cf-9f6f-5dd10493c962",
   "metadata": {},
   "outputs": [],
   "source": [
    "class NodeGraph:\n",
    "    def __init__(self, source, destination):\n",
    "        self.source = source\n",
    "        self.destination = destination\n",
    "        self.next = None\n",
    "\n",
    "    def setNext(self, nextNode):\n",
    "        self.next = nextNode\n",
    "\n",
    "    def getNext(self):\n",
    "        return self.next\n",
    "\n",
    "    def getSource(self):\n",
    "        return self.source\n",
    "\n",
    "    def getDestination(self):\n",
    "        return self.destination"
   ]
  },
  {
   "cell_type": "code",
   "execution_count": 24,
   "id": "1392b560-05c3-4ba4-8a3a-f21889632049",
   "metadata": {},
   "outputs": [],
   "source": [
    "class Graph:\n",
    "    def __init__(self):\n",
    "        self.nodeList = None\n",
    "\n",
    "    def findEdge(self, source, destination):\n",
    "        prevPtr = None\n",
    "        ptr = self.nodeList\n",
    "        isExist = False\n",
    "        while not(isExist) and ptr != None:\n",
    "            # Definisi isExist di sini adalah untuk undirected graph\n",
    "            isExist = (\n",
    "                (ptr.getSource() == source and\n",
    "                    ptr.getDestination() == destination)\n",
    "                or (ptr.getSource() == destination and\n",
    "                    ptr.getDestination() == source)\n",
    "            )\n",
    "\n",
    "            if not(isExist):\n",
    "                prevPtr = ptr\n",
    "                ptr = ptr.getNext()\n",
    "\n",
    "        return (prevPtr, ptr)\n",
    "        \n",
    "    # Kali ini akan digunakan tambah di awal linked list\n",
    "    def addEdge(self, source, destination):\n",
    "        isExist = self.findEdge(source, destination)[1] != None\n",
    "\n",
    "        if not(isExist):\n",
    "            newEdge = NodeGraph(source, destination)\n",
    "            newEdge.setNext(self.nodeList)\n",
    "            self.nodeList = newEdge\n",
    "\n",
    "    def removeEdge(self, source, destination):\n",
    "        prevNode, node = self.findEdge(source, destination)\n",
    "\n",
    "        if node != None:\n",
    "            prevNode.setNext(node.getNext())\n",
    "            node.setNext(None)\n",
    "\n",
    "    def display(self):\n",
    "        ptr = self.nodeList\n",
    "        while ptr != None:\n",
    "            print(f\"{ptr.getSource()},{ptr.getDestination()}\")\n",
    "            ptr = ptr.getNext()\n",
    "        print()\n",
    "    "
   ]
  },
  {
   "cell_type": "code",
   "execution_count": 27,
   "id": "f844a0d8-dc5f-4518-8441-04f4497d1c40",
   "metadata": {},
   "outputs": [
    {
     "name": "stdout",
     "output_type": "stream",
     "text": [
      "Juliarso,Jeni\n",
      "Jamaluddin,Jeni\n",
      "Jamal,Jamal\n",
      "Jessica,Jamal\n",
      "Juliarso,Jamal\n",
      "\n",
      "Juliarso,Jeni\n",
      "Jamaluddin,Jeni\n",
      "Jamal,Jamal\n",
      "\n"
     ]
    }
   ],
   "source": [
    "def main():\n",
    "    graph = Graph()\n",
    "    graph.addEdge(\"Juliarso\", \"Jamal\")\n",
    "    graph.addEdge(\"Jamal\", \"Juliarso\")\n",
    "    graph.addEdge(\"Jessica\", \"Jamal\")\n",
    "    graph.addEdge(\"Jamal\", \"Jamal\")\n",
    "    graph.addEdge(\"Jamaluddin\", \"Jeni\")\n",
    "    graph.addEdge(\"Jeni\", \"Jamaluddin\")\n",
    "    graph.addEdge(\"Juliarso\", \"Jeni\")\n",
    "    graph.display()\n",
    "\n",
    "    graph.removeEdge(\"Jamal\", \"Juliarso\")\n",
    "    graph.removeEdge(\"Jessica\", \"Jamal\")\n",
    "    graph.display()\n",
    "\n",
    "main()"
   ]
  }
 ],
 "metadata": {
  "kernelspec": {
   "display_name": "Python 3 (ipykernel)",
   "language": "python",
   "name": "python3"
  },
  "language_info": {
   "codemirror_mode": {
    "name": "ipython",
    "version": 3
   },
   "file_extension": ".py",
   "mimetype": "text/x-python",
   "name": "python",
   "nbconvert_exporter": "python",
   "pygments_lexer": "ipython3",
   "version": "3.11.6"
  }
 },
 "nbformat": 4,
 "nbformat_minor": 5
}
