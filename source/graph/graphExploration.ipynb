{
 "cells": [
  {
   "cell_type": "code",
   "execution_count": 18,
   "id": "c7b32700-5f50-41fd-bf55-21973e70c742",
   "metadata": {},
   "outputs": [],
   "source": [
    "#@title Definisi Graf (Menggunakan Adjacency Matrix)\n",
    "class GraphAdjacencyMatrix:\n",
    "  def __init__(self):\n",
    "    self.matrix = []\n",
    "    self.mapping = {}\n",
    "\n",
    "  def addNode(self, key):\n",
    "    self.mapping[key] = len(self.matrix)\n",
    "    for node in self.matrix:\n",
    "      node.append(0)\n",
    "\n",
    "    self.matrix.append(\n",
    "        [0 for _ in range(len(self.matrix) + 1)]\n",
    "    )\n",
    "\n",
    "  def isExist(self, name):\n",
    "    return self.mapping.get(name) != None\n",
    "\n",
    "  def connectNode(self, origin, destination):\n",
    "    originIndex = self.mapping.get(origin)\n",
    "    destinationIndex = self.mapping.get(destination)\n",
    "    isBothExist = (originIndex != None and destinationIndex != None)\n",
    "\n",
    "    if(isBothExist):\n",
    "      self.matrix[originIndex][destinationIndex] = 1\n",
    "      self.matrix[destinationIndex][originIndex] = 1\n",
    "\n",
    "  def disconnectNode(self, origin, destination):\n",
    "    originIndex = self.mapping.get(origin)\n",
    "    destinationIndex = self.mapping.get(destination)\n",
    "    isBothExist = (originIndex != None and destinationIndex != None)\n",
    "\n",
    "    if(isBothExist):\n",
    "      self.matrix[originIndex][destinationIndex] = 0\n",
    "      self.matrix[destinationIndex][originIndex] = 0\n",
    "\n",
    "  def getNeighbors(self, origin):\n",
    "    originIndex = self.mapping.get(origin)\n",
    "    neighbors = []\n",
    "    for destination in self.mapping.keys():\n",
    "        destinationIndex = self.mapping.get(destination)\n",
    "        if(self.matrix[originIndex][destinationIndex] == 1):\n",
    "            neighbors.append(destination)\n",
    "    return neighbors\n",
    "      \n",
    "  def displayAdjacencyMatrix(self):\n",
    "    for node in self.matrix:\n",
    "      print(node)\n",
    "    print()"
   ]
  },
  {
   "cell_type": "markdown",
   "id": "a58cd1bd-7378-45b2-90e2-bcd0da6ddba3",
   "metadata": {},
   "source": [
    "# Depth-First Search\n",
    "Dalam implementasinya, depth-first search memanfaatkan struktur data stack. Stack tersebut akan diisi dengan tetangga (child pada tree) dari node yang saat ini dikunjungi. Jika suatu node sudah pernah dikunjungi, maka node tersebut tidak perlu ditambahkan lagi ke dalam stack"
   ]
  },
  {
   "cell_type": "code",
   "execution_count": 19,
   "id": "2d626a7c-1e99-4fe4-8dd4-ffa01efc3836",
   "metadata": {},
   "outputs": [],
   "source": [
    "# VISITED_NODES isa dibuat variabel global atau di-pass di parameter fungsi depthFirstSearch\n",
    "# karena array di-pass by reference\n",
    "def depthFirstSearch(graph, startingPoint, VISITED_NODES):\n",
    "    VISITED_NODES.append(startingPoint)\n",
    "    print(f\"Sedang mengunjungi: {startingPoint}\")\n",
    "    if graph.isExist(startingPoint):\n",
    "        for neighbor in graph.getNeighbors(startingPoint):\n",
    "            if neighbor not in VISITED_NODES:\n",
    "                depthFirstSearch(graph, neighbor, VISITED_NODES)\n",
    "    print(f\"Telah mengunjungi: {startingPoint}\")"
   ]
  },
  {
   "cell_type": "markdown",
   "id": "2cffe4f8-617f-46aa-ae73-2000e337cdf6",
   "metadata": {},
   "source": [
    "# Graf yang akan digunakan\n",
    "![Graf yang akan digunakan](https://aquarchitect.github.io/swift-algorithm-club/Shortest%20Path%20(Unweighted)/Images/Graph.png)\n",
    "<br> Graf tersebut setara dengan \n",
    "```\n",
    "0 1 1 0 0 0 0 0\n",
    "1 0 0 1 1 0 0 0\n",
    "1 0 0 0 0 1 1 0\n",
    "0 1 0 0 0 0 0 0\n",
    "0 1 0 0 0 1 0 1\n",
    "0 0 1 0 1 0 1 0\n",
    "0 0 1 0 0 1 0 0\n",
    "0 0 0 0 1 0 0 0\n",
    "```"
   ]
  },
  {
   "cell_type": "code",
   "execution_count": 21,
   "id": "683c2a06-8819-4029-b5ee-ed924576e2d0",
   "metadata": {},
   "outputs": [
    {
     "name": "stdout",
     "output_type": "stream",
     "text": [
      "Sedang mengunjungi: D\n",
      "Sedang mengunjungi: B\n",
      "Sedang mengunjungi: A\n",
      "Sedang mengunjungi: C\n",
      "Sedang mengunjungi: F\n",
      "Sedang mengunjungi: E\n",
      "Sedang mengunjungi: H\n",
      "Telah mengunjungi: H\n",
      "Telah mengunjungi: E\n",
      "Sedang mengunjungi: G\n",
      "Telah mengunjungi: G\n",
      "Telah mengunjungi: F\n",
      "Telah mengunjungi: C\n",
      "Telah mengunjungi: A\n",
      "Telah mengunjungi: B\n",
      "Telah mengunjungi: D\n"
     ]
    }
   ],
   "source": [
    "\n",
    "def main():\n",
    "    graph = GraphAdjacencyMatrix()\n",
    "    for node_name in \"ABCDEFGH\":\n",
    "        graph.addNode(node_name)\n",
    "\n",
    "    graph.connectNode(\"A\", \"B\")\n",
    "    graph.connectNode(\"A\", \"C\")\n",
    "    graph.connectNode(\"B\", \"D\")\n",
    "    graph.connectNode(\"B\", \"E\")\n",
    "    graph.connectNode(\"C\", \"F\")\n",
    "    graph.connectNode(\"C\", \"G\")\n",
    "    graph.connectNode(\"E\", \"F\")\n",
    "    graph.connectNode(\"E\", \"H\")\n",
    "    graph.connectNode(\"F\", \"G\")\n",
    "\n",
    "    depthFirstSearch(graph, \"D\", [])\n",
    "\n",
    "main()"
   ]
  },
  {
   "cell_type": "code",
   "execution_count": null,
   "id": "9f0a4c45-5c53-4600-aa9d-813e08422169",
   "metadata": {},
   "outputs": [],
   "source": []
  }
 ],
 "metadata": {
  "kernelspec": {
   "display_name": "Python 3 (ipykernel)",
   "language": "python",
   "name": "python3"
  },
  "language_info": {
   "codemirror_mode": {
    "name": "ipython",
    "version": 3
   },
   "file_extension": ".py",
   "mimetype": "text/x-python",
   "name": "python",
   "nbconvert_exporter": "python",
   "pygments_lexer": "ipython3",
   "version": "3.11.6"
  }
 },
 "nbformat": 4,
 "nbformat_minor": 5
}
