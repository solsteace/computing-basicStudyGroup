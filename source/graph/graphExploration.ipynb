{
 "cells": [
  {
   "cell_type": "code",
   "execution_count": null,
   "id": "c7b32700-5f50-41fd-bf55-21973e70c742",
   "metadata": {},
   "outputs": [],
   "source": [
    "#@title Definisi Graf (Menggunakan Adjacency Matrix)\n",
    "class GraphAdjacencyMatrix:\n",
    "  def __init__(self):\n",
    "    self.matrix = []\n",
    "    self.mapping = {}\n",
    "\n",
    "  def addNode(self, key):\n",
    "    self.mapping[key] = len(self.matrix)\n",
    "    for node in self.matrix:\n",
    "      node.append(0)\n",
    "\n",
    "    self.matrix.append(\n",
    "        [0 for _ in range(len(self.matrix) + 1)]\n",
    "    )\n",
    "\n",
    "  def connectNode(self, origin, destination):\n",
    "    originIndex = self.mapping.get(origin)\n",
    "    destinationIndex = self.mapping.get(destination)\n",
    "    isBothExist = (originIndex != None and destinationIndex != None)\n",
    "\n",
    "    if(isBothExist):\n",
    "      self.matrix[originIndex][destinationIndex] = 1\n",
    "      self.matrix[destinationIndex][originIndex] = 1\n",
    "\n",
    "  def disconnectNode(self, origin, destination):\n",
    "    originIndex = self.mapping.get(origin)\n",
    "    destinationIndex = self.mapping.get(destination)\n",
    "    isBothExist = (originIndex != None and destinationIndex != None)\n",
    "\n",
    "    if(isBothExist):\n",
    "      self.matrix[originIndex][destinationIndex] = 0\n",
    "      self.matrix[destinationIndex][originIndex] = 0\n",
    "\n",
    "  def displayAdjacencyMatrix(self):\n",
    "    for node in self.matrix:\n",
    "      print(node)\n",
    "    print()\n",
    "\n",
    "def test1():\n",
    "  graph = GraphAdjacencyMatrix()\n",
    "  graph.addNode(1)\n",
    "  graph.addNode(2)\n",
    "  graph.addNode(3)\n",
    "  graph.connectNode(1, 3)\n",
    "  graph.connectNode(2, 3)\n",
    "  graph.displayAdjacencyMatrix()\n",
    "  graph.disconnectNode(1, 3)\n",
    "  graph.displayAdjacencyMatrix()\n",
    "\n",
    "test1()"
   ]
  }
 ],
 "metadata": {
  "kernelspec": {
   "display_name": "Python 3 (ipykernel)",
   "language": "python",
   "name": "python3"
  },
  "language_info": {
   "codemirror_mode": {
    "name": "ipython",
    "version": 3
   },
   "file_extension": ".py",
   "mimetype": "text/x-python",
   "name": "python",
   "nbconvert_exporter": "python",
   "pygments_lexer": "ipython3",
   "version": "3.11.6"
  }
 },
 "nbformat": 4,
 "nbformat_minor": 5
}
