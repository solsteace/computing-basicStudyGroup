{
 "cells": [
  {
   "cell_type": "code",
   "execution_count": 18,
   "id": "c7b32700-5f50-41fd-bf55-21973e70c742",
   "metadata": {},
   "outputs": [],
   "source": [
    "#@title Definisi Graf (Menggunakan Adjacency Matrix)\n",
    "class GraphAdjacencyMatrix:\n",
    "  def __init__(self):\n",
    "    self.matrix = []\n",
    "    self.mapping = {}\n",
    "\n",
    "  def addNode(self, key):\n",
    "    self.mapping[key] = len(self.matrix)\n",
    "    for node in self.matrix:\n",
    "      node.append(0)\n",
    "\n",
    "    self.matrix.append(\n",
    "        [0 for _ in range(len(self.matrix) + 1)]\n",
    "    )\n",
    "\n",
    "  def isExist(self, name):\n",
    "    return self.mapping.get(name) != None\n",
    "\n",
    "  def connectNode(self, origin, destination):\n",
    "    originIndex = self.mapping.get(origin)\n",
    "    destinationIndex = self.mapping.get(destination)\n",
    "    isBothExist = (originIndex != None and destinationIndex != None)\n",
    "\n",
    "    if(isBothExist):\n",
    "      self.matrix[originIndex][destinationIndex] = 1\n",
    "      self.matrix[destinationIndex][originIndex] = 1\n",
    "\n",
    "  def disconnectNode(self, origin, destination):\n",
    "    originIndex = self.mapping.get(origin)\n",
    "    destinationIndex = self.mapping.get(destination)\n",
    "    isBothExist = (originIndex != None and destinationIndex != None)\n",
    "\n",
    "    if(isBothExist):\n",
    "      self.matrix[originIndex][destinationIndex] = 0\n",
    "      self.matrix[destinationIndex][originIndex] = 0\n",
    "\n",
    "  def getNeighbors(self, origin):\n",
    "    originIndex = self.mapping.get(origin)\n",
    "    neighbors = []\n",
    "    for destination in self.mapping.keys():\n",
    "        destinationIndex = self.mapping.get(destination)\n",
    "        if(self.matrix[originIndex][destinationIndex] == 1):\n",
    "            neighbors.append(destination)\n",
    "    return neighbors\n",
    "      \n",
    "  def displayAdjacencyMatrix(self):\n",
    "    for node in self.matrix:\n",
    "      print(node)\n",
    "    print()"
   ]
  },
  {
   "cell_type": "markdown",
   "id": "a58cd1bd-7378-45b2-90e2-bcd0da6ddba3",
   "metadata": {},
   "source": [
    "# Depth-First Search\n",
    "Dalam implementasinya, depth-first search memanfaatkan struktur data stack. Stack tersebut akan diisi dengan tetangga (child pada tree) dari node yang saat ini dikunjungi. Jika suatu node sudah pernah dikunjungi, maka node tersebut tidak perlu ditambahkan lagi ke dalam stack"
   ]
  },
  {
   "cell_type": "code",
   "execution_count": 19,
   "id": "2d626a7c-1e99-4fe4-8dd4-ffa01efc3836",
   "metadata": {},
   "outputs": [],
   "source": [
    "def depthFirstSearch(graph, startingPoint, VISITED_NODES):\n",
    "    VISITED_NODES.append(startingPoint)\n",
    "    print(f\"Sedang mengunjungi: {startingPoint}\")\n",
    "\n",
    "    # Sama seperti stack, apabila elemen ditambahkan ke sana, \n",
    "    # maka elemen tersebut akan langsung diproses. Yang ditulis\n",
    "    # ini tidak secara eksplisit menggunakan sebuah stack, namun\n",
    "    # dengan logika tersebut, kita akan melakukan hal yang serupa (Membuat call stack)\n",
    "    if graph.isExist(startingPoint):\n",
    "        for neighbor in graph.getNeighbors(startingPoint):\n",
    "            if neighbor not in VISITED_NODES:\n",
    "                depthFirstSearch(graph, neighbor, VISITED_NODES)\n",
    "                \n",
    "    print(f\"Telah mengunjungi: {startingPoint}\")"
   ]
  },
  {
   "cell_type": "markdown",
   "id": "2196a17d-387e-4420-87b7-7620af300950",
   "metadata": {},
   "source": [
    "# Breadth-First Search\n",
    "Dalam implementasinya, breadth-first search memanfaatkan struktur data queue. Queue tersebut akan diisi dengan seluruh tetangga (child pada tree) dari node yang saat ini dikunjungi. Sama seperti DFS, jika suatu node sudah dikunjungi, maka node tersebut tidak erlu ditambahkan lagi ke dalam queue"
   ]
  },
  {
   "cell_type": "code",
   "execution_count": 36,
   "id": "118870a3-fc73-41c2-9d91-cb78c20a3568",
   "metadata": {},
   "outputs": [],
   "source": [
    "def breadthFirstSearch(graph, startingPoint):\n",
    "    # Fokus kita kali ini buknlah queue sehingga, anggap saja array ini queue\n",
    "    NODE_TO_VISIT = [] \n",
    "    \n",
    "    # Dalam Python, set diimplementasikan menggunakan hash table (ref: https://wiki.python.org/moin/TimeComplexity)\n",
    "    DISCOVERED_NODES = {startingPoint} \n",
    "    print(f\"Sedang mengunjungi: {startingPoint}\")\n",
    "\n",
    "    if graph.isExist(startingPoint):     \n",
    "        neighbors = graph.getNeighbors(startingPoint)\n",
    "        DISCOVERED_NODES.update(neighbors)\n",
    "        NODE_TO_VISIT += neighbors\n",
    "        \n",
    "        while len(NODE_TO_VISIT) != 0:\n",
    "            currentlyVisitingNode = NODE_TO_VISIT[0]\n",
    "            DISCOVERED_NODES.add(currentlyVisitingNode)\n",
    "            NODE_TO_VISIT = NODE_TO_VISIT[1:]\n",
    "\n",
    "            print(f\"Sedang mengunjungi: {currentlyVisitingNode}\")\n",
    "            for neighbor in graph.getNeighbors(currentlyVisitingNode):\n",
    "                if neighbor not in DISCOVERED_NODES: \n",
    "                    DISCOVERED_NODES.add(neighbor)\n",
    "                    NODE_TO_VISIT += [neighbor]  \n",
    "            print(f\"Telah mengunjungi: {currentlyVisitingNode}\")"
   ]
  },
  {
   "cell_type": "markdown",
   "id": "2cffe4f8-617f-46aa-ae73-2000e337cdf6",
   "metadata": {},
   "source": [
    "# Graf yang akan digunakan\n",
    "![Graf yang akan digunakan](https://aquarchitect.github.io/swift-algorithm-club/Shortest%20Path%20%28Unweighted%29/Images/Graph.png)\n",
    "<br> Graf tersebut setara dengan \n",
    "```\n",
    "0 1 1 0 0 0 0 0\n",
    "1 0 0 1 1 0 0 0\n",
    "1 0 0 0 0 1 1 0\n",
    "0 1 0 0 0 0 0 0\n",
    "0 1 0 0 0 1 0 1\n",
    "0 0 1 0 1 0 1 0\n",
    "0 0 1 0 0 1 0 0\n",
    "0 0 0 0 1 0 0 0\n",
    "```"
   ]
  },
  {
   "cell_type": "code",
   "execution_count": 37,
   "id": "683c2a06-8819-4029-b5ee-ed924576e2d0",
   "metadata": {},
   "outputs": [
    {
     "name": "stdout",
     "output_type": "stream",
     "text": [
      "Sedang mengunjungi: G\n",
      "Sedang mengunjungi: C\n",
      "Telah mengunjungi: C\n",
      "Sedang mengunjungi: F\n",
      "Telah mengunjungi: F\n",
      "Sedang mengunjungi: A\n",
      "Telah mengunjungi: A\n",
      "Sedang mengunjungi: E\n",
      "Telah mengunjungi: E\n",
      "Sedang mengunjungi: B\n",
      "Telah mengunjungi: B\n",
      "Sedang mengunjungi: H\n",
      "Telah mengunjungi: H\n",
      "Sedang mengunjungi: D\n",
      "Telah mengunjungi: D\n"
     ]
    }
   ],
   "source": [
    "def main():\n",
    "    graph = GraphAdjacencyMatrix()\n",
    "    for node_name in \"ABCDEFGH\":\n",
    "        graph.addNode(node_name)\n",
    "\n",
    "    graph.connectNode(\"A\", \"B\")\n",
    "    graph.connectNode(\"A\", \"C\")\n",
    "    graph.connectNode(\"B\", \"D\")\n",
    "    graph.connectNode(\"B\", \"E\")\n",
    "    graph.connectNode(\"C\", \"F\")\n",
    "    graph.connectNode(\"C\", \"G\")\n",
    "    graph.connectNode(\"E\", \"F\")\n",
    "    graph.connectNode(\"E\", \"H\")\n",
    "    graph.connectNode(\"F\", \"G\")\n",
    "\n",
    "    breadthFirstSearch(graph, \"G\")\n",
    "    # depthFirstSearch(graph, \"D\", [])\n",
    "\n",
    "main()"
   ]
  },
  {
   "cell_type": "code",
   "execution_count": null,
   "id": "6a5ef22f-116b-49ad-ae8d-252ba83efd8c",
   "metadata": {},
   "outputs": [],
   "source": []
  }
 ],
 "metadata": {
  "kernelspec": {
   "display_name": "Python 3 (ipykernel)",
   "language": "python",
   "name": "python3"
  },
  "language_info": {
   "codemirror_mode": {
    "name": "ipython",
    "version": 3
   },
   "file_extension": ".py",
   "mimetype": "text/x-python",
   "name": "python",
   "nbconvert_exporter": "python",
   "pygments_lexer": "ipython3",
   "version": "3.11.6"
  }
 },
 "nbformat": 4,
 "nbformat_minor": 5
}
