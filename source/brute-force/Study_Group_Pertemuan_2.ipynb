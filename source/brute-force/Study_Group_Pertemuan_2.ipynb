{
 "cells": [
  {
   "cell_type": "markdown",
   "metadata": {
    "id": "LjFU9RTLtGb2"
   },
   "source": [
    "# Problem 1: Sequential Search\n",
    "Diberikan sebuah array dengan panjang n berisi bilangan bulat tertentu. Tentukan apakah suatu bilangan bulat tertentu terdapat dalam array tersebut!"
   ]
  },
  {
   "cell_type": "code",
   "execution_count": null,
   "metadata": {
    "colab": {
     "base_uri": "https://localhost:8080/"
    },
    "id": "0M9jezDKudjy",
    "outputId": "c04d30c2-20e3-48b7-ff66-26c708eebff7"
   },
   "outputs": [
    {
     "name": "stdout",
     "output_type": "stream",
     "text": [
      "False\n"
     ]
    }
   ],
   "source": [
    "def solve1():\n",
    "  arr = [3, -11, 4, 6, -8, 6, 9, -88, 4, 2, 0, 1, 100, -101, -4, 10, 98, -5] # Masukkan array input di sini\n",
    "  target = -1 # Masukkan bilangan yang ingin dicari di sini\n",
    "\n",
    "  telah_ditemukan = False # Untuk early-exit (Tidak perlu cek semua elemen)\n",
    "  idx = 0\n",
    "  while(not(telah_ditemukan) and idx < len(arr)):\n",
    "    telah_ditemukan = arr[idx] == target\n",
    "    idx += 1\n",
    "\n",
    "  return telah_ditemukan\n",
    "\n",
    "print(solve1())"
   ]
  },
  {
   "cell_type": "markdown",
   "metadata": {
    "id": "gmNSSp87ueNc"
   },
   "source": [
    "# Problem 2: Maximum Subarray\n",
    "Diberikan sebuah array berisi bilangan bulat tertentu. Tentukan nilai maksimum dari subarray yang ada di array tersebut!"
   ]
  },
  {
   "cell_type": "code",
   "execution_count": 1,
   "metadata": {
    "colab": {
     "base_uri": "https://localhost:8080/"
    },
    "id": "Fwg3j3sBtGEO",
    "outputId": "319c11a9-5083-4b85-b8ee-aea901363807"
   },
   "outputs": [
    {
     "name": "stdout",
     "output_type": "stream",
     "text": [
      "121\n"
     ]
    }
   ],
   "source": [
    "def solve2():\n",
    "  arr = [89, 3, -11, 4, 6, -8, 6, 9, -88, 4, 2, 0, 1, 100, -101, -4, 10, 98, -5, -115, 121] # Masukkan array input di sini\n",
    "  mx = -1 if len(arr) == 0 else arr[0]\n",
    "\n",
    "  for panjang_subarray in range(1, len(arr)): # Cek untuk panjang tertentu x\n",
    "    for indeks_mulai in range(0, len(arr) - panjang_subarray): # Ambil sebanyak x elemen dimulai dari indeks tertentu\n",
    "      indeks_akhir = indeks_mulai + panjang_subarray\n",
    "      jumlah_saat_ini = sum(arr[indeks_mulai: indeks_akhir + 1])\n",
    "      if(jumlah_saat_ini > mx):\n",
    "        subarray = arr[indeks_mulai: indeks_akhir + 1]\n",
    "        # print(f\"Ditemukan subarray dengan jumlah lebih besar dengan jumlah {sum(subarray)}:\", subarray) # Comment untuk men-hide tracing\n",
    "        mx = jumlah_saat_ini\n",
    "\n",
    "  return mx\n",
    "\n",
    "print(solve2())"
   ]
  },
  {
   "cell_type": "markdown",
   "metadata": {
    "id": "QqzlRt-pvQCR"
   },
   "source": [
    "# Problem: Finding Triplet\n",
    "Diberikan array bilangan dengan rentang tertentu. Asumsi array tersebut telah terurut, carilah banyaknya triplet yang memenuhi persamaan p + q + r = 0"
   ]
  },
  {
   "cell_type": "code",
   "execution_count": null,
   "metadata": {
    "colab": {
     "base_uri": "https://localhost:8080/"
    },
    "id": "CXZnc2OztAwm",
    "outputId": "83252d70-9460-4105-b5ea-f53fb121a55e"
   },
   "outputs": [
    {
     "name": "stdout",
     "output_type": "stream",
     "text": [
      "-4 2 2\n",
      "-3 1 2\n",
      "-3 2 1\n",
      "-2 0 2\n",
      "-2 1 1\n",
      "-2 2 0\n",
      "-1 -1 2\n",
      "-1 0 1\n",
      "-1 1 0\n",
      "-1 2 -1\n",
      "0 -2 2\n",
      "0 -1 1\n",
      "0 0 0\n",
      "0 1 -1\n",
      "0 2 -2\n",
      "1 -3 2\n",
      "1 -2 1\n",
      "1 -1 0\n",
      "1 0 -1\n",
      "1 1 -2\n",
      "1 2 -3\n",
      "2 -4 2\n",
      "2 -3 1\n",
      "2 -2 0\n",
      "2 -1 -1\n",
      "2 0 -2\n",
      "2 1 -3\n",
      "2 2 -4\n",
      "28\n"
     ]
    }
   ],
   "source": [
    "def solveVanillaBF(): # Approach Brute Force biasa tanpa pruning\n",
    "  batas_bawah = -64 # Letakkan angka batas bawah di sini\n",
    "  batas_atas = 2 # Letakkan angka batas atas di sini\n",
    "  arr = range(batas_bawah, batas_atas + 1) # +1 agar batas_atas tidak ter-exclude\n",
    "  banyak_triplet = 0\n",
    "\n",
    "  for angka_pertama in range(len(arr)): # Pilih indeks angka pertama\n",
    "    for angka_kedua in range(len(arr)): # Pilih indeks angka kedua\n",
    "      for angka_ketiga in range(len(arr)): # Pilih indeks angka ketiga\n",
    "        if arr[angka_pertama] + arr[angka_kedua] + arr[angka_ketiga] == 0:\n",
    "          print(arr[angka_pertama], arr[angka_kedua], arr[angka_ketiga]) # Comment untuk men-hide solusi\n",
    "          banyak_triplet += 1\n",
    "\n",
    "  return banyak_triplet\n",
    "\n",
    "print(solveVanillaBF())"
   ]
  },
  {
   "cell_type": "code",
   "execution_count": null,
   "metadata": {
    "colab": {
     "base_uri": "https://localhost:8080/"
    },
    "id": "QzvghmYZvdqQ",
    "outputId": "e179ed14-1d7d-484f-fb6a-f5fc10533207"
   },
   "outputs": [
    {
     "name": "stdout",
     "output_type": "stream",
     "text": [
      "28\n"
     ]
    }
   ],
   "source": [
    "def solvePrunedBF(): # Approach BF yang dengan pruning\n",
    "  batas_bawah = -64 # Letakkan angka batas bawah di sini\n",
    "  batas_atas = 2 # Letakkan angka batas atas di sini\n",
    "  arr = range(batas_bawah, batas_atas + 1) # +1 agar batas_atas tidak ter-exclude\n",
    "  banyak_triplet = 0\n",
    "\n",
    "  for angka_pertama in range(len(arr)): # Pilih indeks angka pertama\n",
    "    for angka_kedua in range(len(arr)): # Pilih indeks angka kedua\n",
    "      # p + q + r = 0\n",
    "      # p + q = -r\n",
    "      # Artinya, kita perlu -r agar persamaan bernilai benar\n",
    "\n",
    "      # Untuk simplifikasi, anggap saja operator `in` melakukan binary search pada `arr` dengan\n",
    "      # angka yang ingin dicari adalah `angka_target_search`. Temen-temen bisa challenge diri\n",
    "      # kalian dengan menulis fungsi untuk melakukan binary search sehingga bisa digunakan di sini\n",
    "      angka_target_search = -(arr[angka_pertama] + arr[angka_kedua])\n",
    "      angka_ditemukan = angka_target_search in arr\n",
    "      if(angka_ditemukan):\n",
    "        banyak_triplet += 1\n",
    "\n",
    "  return banyak_triplet\n",
    "\n",
    "print(solvePrunedBF())"
   ]
  }
 ],
 "metadata": {
  "colab": {
   "provenance": []
  },
  "kernelspec": {
   "display_name": "Python 3 (ipykernel)",
   "language": "python",
   "name": "python3"
  },
  "language_info": {
   "codemirror_mode": {
    "name": "ipython",
    "version": 3
   },
   "file_extension": ".py",
   "mimetype": "text/x-python",
   "name": "python",
   "nbconvert_exporter": "python",
   "pygments_lexer": "ipython3",
   "version": "3.11.6"
  }
 },
 "nbformat": 4,
 "nbformat_minor": 4
}
